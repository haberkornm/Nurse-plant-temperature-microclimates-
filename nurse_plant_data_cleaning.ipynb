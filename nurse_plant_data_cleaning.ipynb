{
 "cells": [
  {
   "cell_type": "code",
   "execution_count": 1,
   "id": "58403daf-80ea-4c03-bbd1-271511ca7ba6",
   "metadata": {},
   "outputs": [],
   "source": [
    "import pandas as pd\n",
    "import numpy as np\n",
    "import matplotlib.pyplot as plt"
   ]
  },
  {
   "cell_type": "code",
   "execution_count": 2,
   "id": "ef03a48f-de5a-4fe9-a5ae-1643590bd6f9",
   "metadata": {},
   "outputs": [],
   "source": [
    "bc = pd.read_csv('black_canyon_nurse_plants.csv', index_col=0)\n",
    "cw = pd.read_csv('cottonwood_creek_nurse_plants.csv', index_col=0)\n",
    "wb = pd.read_csv('wickenburg_nurse_plants.csv', index_col=0)\n",
    "wt = pd.read_csv('white_tank_mtns_nurse_plants.csv', index_col=0)"
   ]
  },
  {
   "cell_type": "code",
   "execution_count": 3,
   "id": "e2f7e470-b05e-45d4-bb6a-532ee5023b91",
   "metadata": {},
   "outputs": [
    {
     "name": "stdout",
     "output_type": "stream",
     "text": [
      "(19530, 4)\n",
      "(7560, 5)\n",
      "(11901, 7)\n",
      "(27799, 4)\n"
     ]
    }
   ],
   "source": [
    "print(bc.shape)\n",
    "print(cw.shape)\n",
    "print(wb.shape)\n",
    "print(wt.shape)"
   ]
  },
  {
   "cell_type": "code",
   "execution_count": 4,
   "id": "72cd655f-0f8f-4586-9aa1-1ba8bfc4e3d2",
   "metadata": {},
   "outputs": [],
   "source": [
    "bc['location'] = 'black canyon'"
   ]
  },
  {
   "cell_type": "code",
   "execution_count": 5,
   "id": "783c1230-eedb-4872-af39-84e7b9321ea7",
   "metadata": {},
   "outputs": [],
   "source": [
    "cw.rename(columns = {'plant_number' : 'sensor'}, inplace = True)"
   ]
  },
  {
   "cell_type": "code",
   "execution_count": 6,
   "id": "61dbe8fb-1d65-4612-bd69-fb5af0b8bb04",
   "metadata": {},
   "outputs": [],
   "source": [
    "wb.drop(columns = ['month', 'day', 'hour'], inplace = True)"
   ]
  },
  {
   "cell_type": "code",
   "execution_count": 7,
   "id": "692cfcd8-4c55-4d22-99bd-ad4e1ebf4520",
   "metadata": {},
   "outputs": [],
   "source": [
    "wb['location'] = 'wickenburg'"
   ]
  },
  {
   "cell_type": "code",
   "execution_count": 8,
   "id": "7830a2b8-1b8e-41ab-8b1a-fe2f7eb3517f",
   "metadata": {},
   "outputs": [],
   "source": [
    "wt['location'] = 'White Tank Mountains'"
   ]
  },
  {
   "cell_type": "code",
   "execution_count": 9,
   "id": "a40a9faa-bbbe-4d95-8a08-4bd6f124ddf9",
   "metadata": {},
   "outputs": [],
   "source": [
    "cw = cw[['time', 'temp', 'sensor', 'plant', 'location']]"
   ]
  },
  {
   "cell_type": "code",
   "execution_count": 10,
   "id": "fbae6e61-0077-4b0c-8f58-48abe94a1871",
   "metadata": {},
   "outputs": [
    {
     "data": {
      "text/plain": [
       "Index(['time', 'temp', 'sensor', 'plant', 'location'], dtype='object')"
      ]
     },
     "execution_count": 10,
     "metadata": {},
     "output_type": "execute_result"
    }
   ],
   "source": [
    "bc.columns"
   ]
  },
  {
   "cell_type": "code",
   "execution_count": 11,
   "id": "6c997953-8320-41a0-901b-22dbab3feb88",
   "metadata": {},
   "outputs": [
    {
     "data": {
      "text/plain": [
       "Index(['time', 'temp', 'sensor', 'plant', 'location'], dtype='object')"
      ]
     },
     "execution_count": 11,
     "metadata": {},
     "output_type": "execute_result"
    }
   ],
   "source": [
    "cw.columns"
   ]
  },
  {
   "cell_type": "code",
   "execution_count": 12,
   "id": "07721dc5-f85f-4cb5-a577-3cb15d762c1e",
   "metadata": {},
   "outputs": [
    {
     "data": {
      "text/plain": [
       "Index(['time', 'temp', 'sensor', 'plant', 'location'], dtype='object')"
      ]
     },
     "execution_count": 12,
     "metadata": {},
     "output_type": "execute_result"
    }
   ],
   "source": [
    "wb.columns"
   ]
  },
  {
   "cell_type": "code",
   "execution_count": 13,
   "id": "1190c06e-b11c-4839-a0f0-437e0fde10f7",
   "metadata": {},
   "outputs": [
    {
     "data": {
      "text/plain": [
       "Index(['time', 'temp', 'sensor', 'plant', 'location'], dtype='object')"
      ]
     },
     "execution_count": 13,
     "metadata": {},
     "output_type": "execute_result"
    }
   ],
   "source": [
    "wt.columns"
   ]
  },
  {
   "cell_type": "code",
   "execution_count": 14,
   "id": "6650dd6d-2c18-4e17-9b78-2b4af713c47c",
   "metadata": {},
   "outputs": [],
   "source": [
    "df = pd.concat([bc, cw, wb, wt])"
   ]
  },
  {
   "cell_type": "code",
   "execution_count": 15,
   "id": "a8c0c031-13ee-4cab-832b-1763550cae8d",
   "metadata": {},
   "outputs": [
    {
     "name": "stdout",
     "output_type": "stream",
     "text": [
      "<class 'pandas.core.frame.DataFrame'>\n",
      "Index: 66790 entries, 5 to 3997\n",
      "Data columns (total 5 columns):\n",
      " #   Column    Non-Null Count  Dtype  \n",
      "---  ------    --------------  -----  \n",
      " 0   time      66790 non-null  object \n",
      " 1   temp      66790 non-null  float64\n",
      " 2   sensor    66790 non-null  object \n",
      " 3   plant     66790 non-null  object \n",
      " 4   location  66790 non-null  object \n",
      "dtypes: float64(1), object(4)\n",
      "memory usage: 3.1+ MB\n"
     ]
    }
   ],
   "source": [
    "df.info()"
   ]
  },
  {
   "cell_type": "code",
   "execution_count": 16,
   "id": "19296af6-6380-4c1b-8909-2ceaaf8b2483",
   "metadata": {},
   "outputs": [
    {
     "name": "stdout",
     "output_type": "stream",
     "text": [
      "<class 'pandas.core.frame.DataFrame'>\n",
      "Index: 7560 entries, 0 to 839\n",
      "Data columns (total 5 columns):\n",
      " #   Column    Non-Null Count  Dtype  \n",
      "---  ------    --------------  -----  \n",
      " 0   time      7560 non-null   object \n",
      " 1   temp      7560 non-null   float64\n",
      " 2   sensor    7560 non-null   object \n",
      " 3   plant     7560 non-null   object \n",
      " 4   location  7560 non-null   object \n",
      "dtypes: float64(1), object(4)\n",
      "memory usage: 354.4+ KB\n"
     ]
    }
   ],
   "source": [
    "cw.info()"
   ]
  },
  {
   "cell_type": "code",
   "execution_count": 17,
   "id": "22a2977b-ab58-4fc5-a4ac-c81ec6070488",
   "metadata": {},
   "outputs": [],
   "source": [
    "df.time = pd.to_datetime(df.time)"
   ]
  },
  {
   "cell_type": "code",
   "execution_count": 18,
   "id": "457d032c-bd55-4253-891a-b4dea7864673",
   "metadata": {},
   "outputs": [
    {
     "data": {
      "image/png": "[encoded data removed]",
      "text/plain": [
       "<Figure size 640x480 with 1 Axes>"
      ]
     },
     "metadata": {},
     "output_type": "display_data"
    }
   ],
   "source": [
    "plt.hist(df.temp)\n",
    "plt.show()"
   ]
  },
  {
   "cell_type": "code",
   "execution_count": 19,
   "id": "1ec7393e-7555-4056-b0e0-a76b85835016",
   "metadata": {
    "scrolled": true
   },
   "outputs": [
    {
     "data": {
      "text/plain": [
       "sensor\n",
       "pv1                 4692\n",
       "ltri1               4691\n",
       "ltri3               4690\n",
       "open3               4690\n",
       "pv3                 4689\n",
       "ltri2               4689\n",
       "adelt1              4689\n",
       "open2               4688\n",
       "adelt2              4688\n",
       "adelt3              4682\n",
       "open1               2647\n",
       "iw2                 1993\n",
       "iw1                 1993\n",
       "iw3                 1987\n",
       "A. deltoidea 2       840\n",
       "A. deltoidea 1       840\n",
       "P. microphylla 3     840\n",
       "A. deltoidea 3       840\n",
       "P. microphylla 2     840\n",
       "P. microphylla 1     840\n",
       "open 3               840\n",
       "open 2               840\n",
       "open 1               840\n",
       "pv2                  746\n",
       "adelt4               745\n",
       "open4                744\n",
       "ltri4                744\n",
       "pv4                  743\n",
       "Name: count, dtype: int64"
      ]
     },
     "execution_count": 19,
     "metadata": {},
     "output_type": "execute_result"
    }
   ],
   "source": [
    "df.sensor.value_counts()"
   ]
  },
  {
   "cell_type": "code",
   "execution_count": 20,
   "id": "90b4ebf5-da6d-4804-ab12-5e2a688a50b6",
   "metadata": {},
   "outputs": [],
   "source": [
    "df.plant = df['plant'].replace({'pv' : 'P. microphylla',\n",
    "                                'ltri' : 'L. tridentata', \n",
    "                                'adelt' : 'A. deltoidea'}) "
   ]
  },
  {
   "cell_type": "code",
   "execution_count": 21,
   "id": "9bc9f877-fe7d-47d6-99b7-dd7f584e6207",
   "metadata": {},
   "outputs": [
    {
     "data": {
      "text/plain": [
       "plant\n",
       "A. deltoidea      17324\n",
       "open              15289\n",
       "L. tridentata     14814\n",
       "P. microphylla    13390\n",
       "O. tesota          5973\n",
       "Name: count, dtype: int64"
      ]
     },
     "execution_count": 21,
     "metadata": {},
     "output_type": "execute_result"
    }
   ],
   "source": [
    "df.plant.value_counts()"
   ]
  },
  {
   "cell_type": "code",
   "execution_count": 22,
   "id": "61cf1c07-3328-4bc2-854c-d0049b8afa15",
   "metadata": {},
   "outputs": [
    {
     "name": "stdout",
     "output_type": "stream",
     "text": [
      "<class 'pandas.core.frame.DataFrame'>\n",
      "Index: 66790 entries, 5 to 3997\n",
      "Data columns (total 5 columns):\n",
      " #   Column    Non-Null Count  Dtype         \n",
      "---  ------    --------------  -----         \n",
      " 0   time      66790 non-null  datetime64[ns]\n",
      " 1   temp      66790 non-null  float64       \n",
      " 2   sensor    66790 non-null  object        \n",
      " 3   plant     66790 non-null  object        \n",
      " 4   location  66790 non-null  object        \n",
      "dtypes: datetime64[ns](1), float64(1), object(3)\n",
      "memory usage: 3.1+ MB\n"
     ]
    }
   ],
   "source": [
    "df.info()"
   ]
  },
  {
   "cell_type": "code",
   "execution_count": 23,
   "id": "e44b431c-2aa3-45df-b4c7-4bd15feb20f3",
   "metadata": {},
   "outputs": [
    {
     "data": {
      "text/html": [
       "<div>\n",
       "<style scoped>\n",
       "    .dataframe tbody tr th:only-of-type {\n",
       "        vertical-align: middle;\n",
       "    }\n",
       "\n",
       "    .dataframe tbody tr th {\n",
       "        vertical-align: top;\n",
       "    }\n",
       "\n",
       "    .dataframe thead th {\n",
       "        text-align: right;\n",
       "    }\n",
       "</style>\n",
       "<table border=\"1\" class=\"dataframe\">\n",
       "  <thead>\n",
       "    <tr style=\"text-align: right;\">\n",
       "      <th></th>\n",
       "      <th>time</th>\n",
       "      <th>temp</th>\n",
       "      <th>sensor</th>\n",
       "      <th>plant</th>\n",
       "      <th>location</th>\n",
       "    </tr>\n",
       "  </thead>\n",
       "  <tbody>\n",
       "    <tr>\n",
       "      <th>5</th>\n",
       "      <td>2023-01-02 16:00:00</td>\n",
       "      <td>13.4</td>\n",
       "      <td>open2</td>\n",
       "      <td>open</td>\n",
       "      <td>black canyon</td>\n",
       "    </tr>\n",
       "    <tr>\n",
       "      <th>6</th>\n",
       "      <td>2023-01-02 17:00:00</td>\n",
       "      <td>11.5</td>\n",
       "      <td>open2</td>\n",
       "      <td>open</td>\n",
       "      <td>black canyon</td>\n",
       "    </tr>\n",
       "    <tr>\n",
       "      <th>7</th>\n",
       "      <td>2023-01-02 18:00:00</td>\n",
       "      <td>9.9</td>\n",
       "      <td>open2</td>\n",
       "      <td>open</td>\n",
       "      <td>black canyon</td>\n",
       "    </tr>\n",
       "    <tr>\n",
       "      <th>8</th>\n",
       "      <td>2023-01-02 19:00:00</td>\n",
       "      <td>8.9</td>\n",
       "      <td>open2</td>\n",
       "      <td>open</td>\n",
       "      <td>black canyon</td>\n",
       "    </tr>\n",
       "    <tr>\n",
       "      <th>9</th>\n",
       "      <td>2023-01-02 20:00:00</td>\n",
       "      <td>8.3</td>\n",
       "      <td>open2</td>\n",
       "      <td>open</td>\n",
       "      <td>black canyon</td>\n",
       "    </tr>\n",
       "  </tbody>\n",
       "</table>\n",
       "</div>"
      ],
      "text/plain": [
       "                 time  temp sensor plant      location\n",
       "5 2023-01-02 16:00:00  13.4  open2  open  black canyon\n",
       "6 2023-01-02 17:00:00  11.5  open2  open  black canyon\n",
       "7 2023-01-02 18:00:00   9.9  open2  open  black canyon\n",
       "8 2023-01-02 19:00:00   8.9  open2  open  black canyon\n",
       "9 2023-01-02 20:00:00   8.3  open2  open  black canyon"
      ]
     },
     "execution_count": 23,
     "metadata": {},
     "output_type": "execute_result"
    }
   ],
   "source": [
    "df.head()"
   ]
  },
  {
   "cell_type": "code",
   "execution_count": 24,
   "id": "dde2c284-2c62-469d-af80-46d933cd328c",
   "metadata": {},
   "outputs": [],
   "source": [
    "df.to_csv('nurse_plant_temperatures_all_locations.csv')"
   ]
  },
  {
   "cell_type": "code",
   "execution_count": 25,
   "id": "a019f3f9-09f2-4ba1-86d5-57c986863bc1",
   "metadata": {},
   "outputs": [
    {
     "data": {
      "text/plain": [
       "plant\n",
       "A. deltoidea      17324\n",
       "open              15289\n",
       "L. tridentata     14814\n",
       "P. microphylla    13390\n",
       "O. tesota          5973\n",
       "Name: count, dtype: int64"
      ]
     },
     "execution_count": 25,
     "metadata": {},
     "output_type": "execute_result"
    }
   ],
   "source": [
    "df.plant.value_counts()"
   ]
  },
  {
   "cell_type": "code",
   "execution_count": null,
   "id": "92523081-4ac7-4338-834a-8ca02e180382",
   "metadata": {},
   "outputs": [],
   "source": []
  }
 ],
 "metadata": {
  "kernelspec": {
   "display_name": "Python 3 (ipykernel)",
   "language": "python",
   "name": "python3"
  },
  "language_info": {
   "codemirror_mode": {
    "name": "ipython",
    "version": 3
   },
   "file_extension": ".py",
   "mimetype": "text/x-python",
   "name": "python",
   "nbconvert_exporter": "python",
   "pygments_lexer": "ipython3",
   "version": "3.12.5"
  }
 },
 "nbformat": 4,
 "nbformat_minor": 5
}
